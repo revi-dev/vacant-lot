{
 "cells": [
  {
   "cell_type": "code",
   "execution_count": 1,
   "id": "2d256b4e",
   "metadata": {},
   "outputs": [
    {
     "name": "stdout",
     "output_type": "stream",
     "text": [
      "/home/tomo/workspace/src is added into sys.path\n"
     ]
    }
   ],
   "source": [
    "import json\n",
    "import pathlib\n",
    "from pprint import pprint\n",
    "\n",
    "import matplotlib.pyplot as plt\n",
    "from iterstrat.ml_stratifiers import MultilabelStratifiedKFold\n",
    "import polars as pl\n",
    "\n",
    "import srcdir\n",
    "\n",
    "TRAIN_IMAGE_DIR = pathlib.Path('../data/train_bbox_images')\n",
    "TRAIN_ANNOTATIONS = pathlib.Path('../data/train_bbox_annotations.json')"
   ]
  },
  {
   "cell_type": "code",
   "execution_count": 2,
   "id": "526d6e81",
   "metadata": {},
   "outputs": [
    {
     "data": {
      "text/html": [
       "<div><style>\n",
       ".dataframe > thead > tr,\n",
       ".dataframe > tbody > tr {\n",
       "  text-align: right;\n",
       "  white-space: pre-wrap;\n",
       "}\n",
       "</style>\n",
       "<small>shape: (2_653, 11)</small><table border=\"1\" class=\"dataframe\"><thead><tr><th>image_id</th><th>file_name</th><th>image_width</th><th>image_height</th><th>bbox_id</th><th>class</th><th>x_min</th><th>y_min</th><th>bbox_width</th><th>bbox_height</th><th>bbox_area</th></tr><tr><td>i64</td><td>str</td><td>i64</td><td>i64</td><td>i64</td><td>str</td><td>f64</td><td>f64</td><td>f64</td><td>f64</td><td>f64</td></tr></thead><tbody><tr><td>0</td><td>&quot;train_0.tif&quot;</td><td>500</td><td>375</td><td>0</td><td>&quot;vacant_lot&quot;</td><td>311.0</td><td>36.246</td><td>35.0</td><td>45.146</td><td>1580.11</td></tr><tr><td>0</td><td>&quot;train_0.tif&quot;</td><td>500</td><td>375</td><td>1</td><td>&quot;vacant_lot&quot;</td><td>121.0</td><td>156.0</td><td>203.0</td><td>144.0</td><td>29232.0</td></tr><tr><td>1</td><td>&quot;train_1.tif&quot;</td><td>500</td><td>375</td><td>0</td><td>&quot;vacant_lot&quot;</td><td>198.0</td><td>231.0</td><td>56.0</td><td>34.0</td><td>1904.0</td></tr><tr><td>2</td><td>&quot;train_2.tif&quot;</td><td>500</td><td>375</td><td>0</td><td>&quot;vacant_lot&quot;</td><td>61.501</td><td>168.404</td><td>47.705</td><td>45.298</td><td>2160.94109</td></tr><tr><td>3</td><td>&quot;train_3.tif&quot;</td><td>500</td><td>375</td><td>0</td><td>&quot;vacant_lot&quot;</td><td>327.0</td><td>196.0</td><td>33.0</td><td>57.0</td><td>1881.0</td></tr><tr><td>&hellip;</td><td>&hellip;</td><td>&hellip;</td><td>&hellip;</td><td>&hellip;</td><td>&hellip;</td><td>&hellip;</td><td>&hellip;</td><td>&hellip;</td><td>&hellip;</td><td>&hellip;</td></tr><tr><td>598</td><td>&quot;train_598.tif&quot;</td><td>500</td><td>375</td><td>11</td><td>&quot;vacant_lot&quot;</td><td>470.0</td><td>162.0</td><td>27.0</td><td>28.0</td><td>756.0</td></tr><tr><td>599</td><td>&quot;train_599.tif&quot;</td><td>500</td><td>375</td><td>0</td><td>&quot;vacant_lot&quot;</td><td>71.509</td><td>259.731</td><td>53.675</td><td>67.836</td><td>3641.0973</td></tr><tr><td>599</td><td>&quot;train_599.tif&quot;</td><td>500</td><td>375</td><td>1</td><td>&quot;vacant_lot&quot;</td><td>223.0</td><td>136.0</td><td>44.0</td><td>44.0</td><td>1936.0</td></tr><tr><td>599</td><td>&quot;train_599.tif&quot;</td><td>500</td><td>375</td><td>2</td><td>&quot;vacant_lot&quot;</td><td>217.0</td><td>185.0</td><td>43.0</td><td>45.0</td><td>1935.0</td></tr><tr><td>599</td><td>&quot;train_599.tif&quot;</td><td>500</td><td>375</td><td>3</td><td>&quot;vacant_lot&quot;</td><td>66.0</td><td>215.0</td><td>32.0</td><td>45.0</td><td>1440.0</td></tr></tbody></table></div>"
      ],
      "text/plain": [
       "shape: (2_653, 11)\n",
       "┌──────────┬────────────┬────────────┬───────────┬───┬─────────┬───────────┬───────────┬───────────┐\n",
       "│ image_id ┆ file_name  ┆ image_widt ┆ image_hei ┆ … ┆ y_min   ┆ bbox_widt ┆ bbox_heig ┆ bbox_area │\n",
       "│ ---      ┆ ---        ┆ h          ┆ ght       ┆   ┆ ---     ┆ h         ┆ ht        ┆ ---       │\n",
       "│ i64      ┆ str        ┆ ---        ┆ ---       ┆   ┆ f64     ┆ ---       ┆ ---       ┆ f64       │\n",
       "│          ┆            ┆ i64        ┆ i64       ┆   ┆         ┆ f64       ┆ f64       ┆           │\n",
       "╞══════════╪════════════╪════════════╪═══════════╪═══╪═════════╪═══════════╪═══════════╪═══════════╡\n",
       "│ 0        ┆ train_0.ti ┆ 500        ┆ 375       ┆ … ┆ 36.246  ┆ 35.0      ┆ 45.146    ┆ 1580.11   │\n",
       "│          ┆ f          ┆            ┆           ┆   ┆         ┆           ┆           ┆           │\n",
       "│ 0        ┆ train_0.ti ┆ 500        ┆ 375       ┆ … ┆ 156.0   ┆ 203.0     ┆ 144.0     ┆ 29232.0   │\n",
       "│          ┆ f          ┆            ┆           ┆   ┆         ┆           ┆           ┆           │\n",
       "│ 1        ┆ train_1.ti ┆ 500        ┆ 375       ┆ … ┆ 231.0   ┆ 56.0      ┆ 34.0      ┆ 1904.0    │\n",
       "│          ┆ f          ┆            ┆           ┆   ┆         ┆           ┆           ┆           │\n",
       "│ 2        ┆ train_2.ti ┆ 500        ┆ 375       ┆ … ┆ 168.404 ┆ 47.705    ┆ 45.298    ┆ 2160.9410 │\n",
       "│          ┆ f          ┆            ┆           ┆   ┆         ┆           ┆           ┆ 9         │\n",
       "│ 3        ┆ train_3.ti ┆ 500        ┆ 375       ┆ … ┆ 196.0   ┆ 33.0      ┆ 57.0      ┆ 1881.0    │\n",
       "│          ┆ f          ┆            ┆           ┆   ┆         ┆           ┆           ┆           │\n",
       "│ …        ┆ …          ┆ …          ┆ …         ┆ … ┆ …       ┆ …         ┆ …         ┆ …         │\n",
       "│ 598      ┆ train_598. ┆ 500        ┆ 375       ┆ … ┆ 162.0   ┆ 27.0      ┆ 28.0      ┆ 756.0     │\n",
       "│          ┆ tif        ┆            ┆           ┆   ┆         ┆           ┆           ┆           │\n",
       "│ 599      ┆ train_599. ┆ 500        ┆ 375       ┆ … ┆ 259.731 ┆ 53.675    ┆ 67.836    ┆ 3641.0973 │\n",
       "│          ┆ tif        ┆            ┆           ┆   ┆         ┆           ┆           ┆           │\n",
       "│ 599      ┆ train_599. ┆ 500        ┆ 375       ┆ … ┆ 136.0   ┆ 44.0      ┆ 44.0      ┆ 1936.0    │\n",
       "│          ┆ tif        ┆            ┆           ┆   ┆         ┆           ┆           ┆           │\n",
       "│ 599      ┆ train_599. ┆ 500        ┆ 375       ┆ … ┆ 185.0   ┆ 43.0      ┆ 45.0      ┆ 1935.0    │\n",
       "│          ┆ tif        ┆            ┆           ┆   ┆         ┆           ┆           ┆           │\n",
       "│ 599      ┆ train_599. ┆ 500        ┆ 375       ┆ … ┆ 215.0   ┆ 32.0      ┆ 45.0      ┆ 1440.0    │\n",
       "│          ┆ tif        ┆            ┆           ┆   ┆         ┆           ┆           ┆           │\n",
       "└──────────┴────────────┴────────────┴───────────┴───┴─────────┴───────────┴───────────┴───────────┘"
      ]
     },
     "execution_count": 2,
     "metadata": {},
     "output_type": "execute_result"
    }
   ],
   "source": [
    "with open(TRAIN_ANNOTATIONS, 'r') as f:\n",
    "    annotations = json.load(f)['images']\n",
    "    \n",
    "bboxes = []\n",
    "for annotation in annotations:\n",
    "    _anno = {\n",
    "        'image_id': int(annotation['file_name'].split('.')[0].split('_')[-1]),\n",
    "        'file_name': annotation['file_name'],\n",
    "        'image_width': annotation['width'],\n",
    "        'image_height': annotation['height'],\n",
    "    }\n",
    "    for i, bbox in enumerate(annotation['annotations']):\n",
    "        _bbox = {\n",
    "            'bbox_id': i,\n",
    "            'class': bbox['class'],\n",
    "            'x_min': bbox['bbox'][0],\n",
    "            'y_min': bbox['bbox'][1],\n",
    "            'bbox_width': bbox['bbox'][2],\n",
    "            'bbox_height': bbox['bbox'][3],\n",
    "            'bbox_area': bbox['bbox'][2] * bbox['bbox'][3],\n",
    "        }\n",
    "        bboxes.append(_anno | _bbox)\n",
    "\n",
    "bbox_df = pl.DataFrame(bboxes).sort(by=('image_id', 'bbox_id'))\n",
    "bbox_df"
   ]
  },
  {
   "cell_type": "code",
   "execution_count": 3,
   "id": "49103a63",
   "metadata": {},
   "outputs": [
    {
     "data": {
      "text/html": [
       "<div><style>\n",
       ".dataframe > thead > tr,\n",
       ".dataframe > tbody > tr {\n",
       "  text-align: right;\n",
       "  white-space: pre-wrap;\n",
       "}\n",
       "</style>\n",
       "<small>shape: (600, 5)</small><table border=\"1\" class=\"dataframe\"><thead><tr><th>image_id</th><th>bbox_count</th><th>total_area</th><th>bin_bbox_count</th><th>bin_total_area</th></tr><tr><td>i64</td><td>i64</td><td>f64</td><td>i32</td><td>i32</td></tr></thead><tbody><tr><td>0</td><td>2</td><td>30812.11</td><td>0</td><td>3</td></tr><tr><td>1</td><td>1</td><td>1904.0</td><td>0</td><td>0</td></tr><tr><td>2</td><td>1</td><td>2160.94109</td><td>0</td><td>1</td></tr><tr><td>3</td><td>9</td><td>8434.0</td><td>1</td><td>2</td></tr><tr><td>4</td><td>3</td><td>3036.638</td><td>0</td><td>1</td></tr><tr><td>&hellip;</td><td>&hellip;</td><td>&hellip;</td><td>&hellip;</td><td>&hellip;</td></tr><tr><td>595</td><td>2</td><td>21063.0</td><td>0</td><td>3</td></tr><tr><td>596</td><td>4</td><td>9910.0</td><td>0</td><td>2</td></tr><tr><td>597</td><td>3</td><td>11522.248463</td><td>0</td><td>2</td></tr><tr><td>598</td><td>12</td><td>6323.054347</td><td>2</td><td>2</td></tr><tr><td>599</td><td>4</td><td>8952.0973</td><td>0</td><td>2</td></tr></tbody></table></div>"
      ],
      "text/plain": [
       "shape: (600, 5)\n",
       "┌──────────┬────────────┬──────────────┬────────────────┬────────────────┐\n",
       "│ image_id ┆ bbox_count ┆ total_area   ┆ bin_bbox_count ┆ bin_total_area │\n",
       "│ ---      ┆ ---        ┆ ---          ┆ ---            ┆ ---            │\n",
       "│ i64      ┆ i64        ┆ f64          ┆ i32            ┆ i32            │\n",
       "╞══════════╪════════════╪══════════════╪════════════════╪════════════════╡\n",
       "│ 0        ┆ 2          ┆ 30812.11     ┆ 0              ┆ 3              │\n",
       "│ 1        ┆ 1          ┆ 1904.0       ┆ 0              ┆ 0              │\n",
       "│ 2        ┆ 1          ┆ 2160.94109   ┆ 0              ┆ 1              │\n",
       "│ 3        ┆ 9          ┆ 8434.0       ┆ 1              ┆ 2              │\n",
       "│ 4        ┆ 3          ┆ 3036.638     ┆ 0              ┆ 1              │\n",
       "│ …        ┆ …          ┆ …            ┆ …              ┆ …              │\n",
       "│ 595      ┆ 2          ┆ 21063.0      ┆ 0              ┆ 3              │\n",
       "│ 596      ┆ 4          ┆ 9910.0       ┆ 0              ┆ 2              │\n",
       "│ 597      ┆ 3          ┆ 11522.248463 ┆ 0              ┆ 2              │\n",
       "│ 598      ┆ 12         ┆ 6323.054347  ┆ 2              ┆ 2              │\n",
       "│ 599      ┆ 4          ┆ 8952.0973    ┆ 0              ┆ 2              │\n",
       "└──────────┴────────────┴──────────────┴────────────────┴────────────────┘"
      ]
     },
     "execution_count": 3,
     "metadata": {},
     "output_type": "execute_result"
    }
   ],
   "source": [
    "img_df = bbox_df.group_by('image_id') \\\n",
    "                .agg(bbox_count=pl.col('bbox_id').max()+1,\n",
    "                     total_area=pl.col('bbox_area').sum()) \\\n",
    "                .sort(by='image_id')\n",
    "\n",
    "img_df = img_df.with_columns(\n",
    "    bin_bbox_count=pl.when(pl.col('bbox_count') < 5).then(0) \\\n",
    "                     .when(pl.col('bbox_count') < 10).then(1) \\\n",
    "                     .otherwise(2)\n",
    ")\n",
    "\n",
    "img_df = img_df.with_columns(\n",
    "    bin_total_area=pl.when(pl.col('total_area') < 2000).then(0) \\\n",
    "                     .when(pl.col('total_area') < 5000).then(1) \\\n",
    "                     .when(pl.col('total_area') < 20000).then(2) \\\n",
    "                     .when(pl.col('total_area') < 50000).then(3) \\\n",
    "                     .otherwise(4)\n",
    ")\n",
    "\n",
    "img_df"
   ]
  },
  {
   "cell_type": "code",
   "execution_count": 4,
   "id": "7ed7fdbf",
   "metadata": {},
   "outputs": [],
   "source": [
    "kfold = MultilabelStratifiedKFold(n_splits=5, shuffle=True, random_state=42)\n",
    "cv_splits = kfold.split(\n",
    "        X=img_df['image_id'].to_numpy(),\n",
    "        y=img_df.select('bin_bbox_count', 'bin_total_area').to_numpy()\n",
    "    )\n",
    "\n",
    "folds = {i: {\n",
    "                'train': train_indices.tolist(),\n",
    "                'valid': test_indices.tolist()\n",
    "            } for i, (train_indices, test_indices) in enumerate(cv_splits)}\n",
    "\n",
    "with open('../data/cv.json', 'w') as f:\n",
    "    json.dump(folds, f, indent=2)"
   ]
  }
 ],
 "metadata": {
  "kernelspec": {
   "display_name": ".venv",
   "language": "python",
   "name": "python3"
  },
  "language_info": {
   "codemirror_mode": {
    "name": "ipython",
    "version": 3
   },
   "file_extension": ".py",
   "mimetype": "text/x-python",
   "name": "python",
   "nbconvert_exporter": "python",
   "pygments_lexer": "ipython3",
   "version": "3.12.7"
  }
 },
 "nbformat": 4,
 "nbformat_minor": 5
}
